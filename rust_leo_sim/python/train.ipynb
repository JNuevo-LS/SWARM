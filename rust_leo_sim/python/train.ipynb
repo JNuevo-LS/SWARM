{
 "cells": [
  {
   "cell_type": "code",
   "execution_count": 1,
   "metadata": {},
   "outputs": [],
   "source": [
    "import satkit\n",
    "\n",
    "# satkit.utils.update_datafiles()"
   ]
  },
  {
   "cell_type": "code",
   "execution_count": 2,
   "metadata": {},
   "outputs": [
    {
     "name": "stdout",
     "output_type": "stream",
     "text": [
      "107\n"
     ]
    }
   ],
   "source": [
    "from util.read import read_zst, read_blocks\n",
    "from dotenv import load_dotenv\n",
    "import os\n",
    "\n",
    "load_dotenv()\n",
    "\n",
    "FILEPATH = os.getenv(\"TEST_FILEPATH\")\n",
    "lines = read_zst(FILEPATH)\n",
    "states = []\n",
    "\n",
    "num_lines = len(lines)\n",
    "steps = read_blocks(lines)\n",
    "print(len(steps))"
   ]
  },
  {
   "cell_type": "code",
   "execution_count": 3,
   "metadata": {},
   "outputs": [],
   "source": [
    "import torch\n",
    "import torch.nn as nn\n",
    "import numpy as np\n",
    "\n",
    "device = torch.device('cuda' if torch.cuda.is_available() else 'cpu')"
   ]
  },
  {
   "cell_type": "code",
   "execution_count": 4,
   "metadata": {},
   "outputs": [
    {
     "name": "stderr",
     "output_type": "stream",
     "text": [
      "/tmp/ipykernel_564875/946281627.py:12: FutureWarning: `torch.cuda.amp.GradScaler(args...)` is deprecated. Please use `torch.amp.GradScaler('cuda', args...)` instead.\n",
      "  scaler: GradScaler = GradScaler(device),\n",
      "/home/ls/.local/share/virtualenvs/python-8qDdKdqJ/lib/python3.12/site-packages/torch/amp/grad_scaler.py:136: UserWarning: torch.cuda.amp.GradScaler is enabled, but CUDA is not available.  Disabling.\n",
      "  warnings.warn(\n"
     ]
    }
   ],
   "source": [
    "from torch.cuda.amp import GradScaler, autocast\n",
    "from torch import optim\n",
    "from custom_satkit.customMLDSGP4 import mldsgp4\n",
    "from lazy_dataset.dataset import LazyDataset\n",
    "\n",
    "\n",
    "def train(\n",
    "        model: mldsgp4,\n",
    "        dataset: LazyDataset,\n",
    "        optimizer: optim.Optimizer,\n",
    "        criterion: nn.Module = nn.SmoothL1Loss(),\n",
    "        scaler: GradScaler = GradScaler(device),\n",
    "        density=5001\n",
    "        ):\n",
    "    model.train()\n",
    "    total_loss = 0.0\n",
    "\n",
    "    for batch in dataset:\n",
    "        # Extract TLEs and states from the batch\n",
    "        tles = [step.tle for step in batch]\n",
    "        all_state_lists = [step.states for step in batch]\n",
    "        all_tsince_lists = [step.tsinces for step in batch]\n",
    "        states = [state for state_list in all_state_lists for state in state_list]\n",
    "        tsinces = [tsince for tsince_list in all_tsince_lists for tsince in tsince_list]\n",
    "\n",
    "        optimizer.zero_grad()\n",
    "\n",
    "        # Propagate TLEs using the model\n",
    "        propagated_states = []\n",
    "        for tle, tsince in zip(tles, tsinces):\n",
    "            tle_expanded = [tle] * density\n",
    "            time_steps = torch.linspace(0, tsince, density, device=device)\n",
    "\n",
    "            with autocast(device):\n",
    "                output_segment_states = model(tle_expanded, time_steps)\n",
    "                propagated_states.append(output_segment_states)\n",
    "\n",
    "        # Convert propagated states to a tensor\n",
    "        propagated_states = torch.cat(propagated_states, dim=0).to(device)\n",
    "        print(f\"Propagated states shape: {propagated_states.shape}\")\n",
    "\n",
    "        # Convert ground truth states to a tensor\n",
    "        target_states = torch.tensor(\n",
    "            [state.get_position_vector() for state in states],\n",
    "            dtype=torch.float32,\n",
    "            device=device\n",
    "        )\n",
    "\n",
    "        # Compute the loss\n",
    "        with autocast(device):\n",
    "            loss = criterion(propagated_states, target_states)\n",
    "\n",
    "        # Backpropagation and optimization\n",
    "        scaler.scale(loss).backward()\n",
    "        scaler.step(optimizer)\n",
    "        scaler.update()\n",
    "\n",
    "        total_loss += loss.item()\n",
    "    \n",
    "    avg_loss = total_loss / len(dataset)\n",
    "    return avg_loss\n",
    "\n",
    "def eval(\n",
    "    model: mldsgp4,\n",
    "    dataset: LazyDataset,\n",
    "    optimizer: optim.Optimizer,\n",
    "    criterion: nn.Module = nn.SmoothL1Loss(),\n",
    "    density=5001\n",
    "):\n",
    "    total_loss = 0.0\n",
    "\n",
    "    for batch in dataset:\n",
    "        # Extract TLEs and states from the batch\n",
    "        tles = [step.tle for step in batch]\n",
    "        all_state_lists = [step.states for step in batch]\n",
    "        all_tsince_lists = [step.tsinces for step in batch]\n",
    "        states = [state for state_list in all_state_lists for state in state_list]\n",
    "        tsinces = [tsince for tsince_list in all_tsince_lists for tsince in tsince_list]\n",
    "\n",
    "        optimizer.zero_grad()\n",
    "\n",
    "        # Propagate TLEs using the model\n",
    "        propagated_states = []\n",
    "        for tle, tsince in zip(tles, tsinces):\n",
    "            tle_expanded = [tle] * density\n",
    "            time_steps = torch.linspace(0, tsince, density, device=device)\n",
    "\n",
    "            with autocast(device):\n",
    "                output_segment_states = model(tle_expanded, time_steps)\n",
    "                propagated_states.append(output_segment_states)\n",
    "\n",
    "        # Convert propagated states to a tensor\n",
    "        propagated_states = torch.cat(propagated_states, dim=0).to(device)\n",
    "\n",
    "        # Convert ground truth states to a tensor\n",
    "        target_states = torch.tensor(\n",
    "            [state.get_position_vector() for state in states],\n",
    "            dtype=torch.float32,\n",
    "            device=device\n",
    "        )\n",
    "\n",
    "        # Compute the loss\n",
    "        with autocast(device):\n",
    "            loss = criterion(propagated_states, target_states)\n",
    "\n",
    "        # Evaluation cycle, we skip backprop\n",
    "\n",
    "        total_loss += loss.item()\n",
    "\n",
    "    avg_loss = total_loss / len(dataset)\n",
    "    return avg_loss"
   ]
  },
  {
   "cell_type": "code",
   "execution_count": 5,
   "metadata": {},
   "outputs": [
    {
     "name": "stderr",
     "output_type": "stream",
     "text": [
      "/tmp/ipykernel_564875/3737965138.py:8: FutureWarning: `torch.cuda.amp.GradScaler(args...)` is deprecated. Please use `torch.amp.GradScaler('cuda', args...)` instead.\n",
      "  scaler = GradScaler(device)\n",
      "/home/ls/.local/share/virtualenvs/python-8qDdKdqJ/lib/python3.12/site-packages/torch/amp/grad_scaler.py:136: UserWarning: torch.cuda.amp.GradScaler is enabled, but CUDA is not available.  Disabling.\n",
      "  warnings.warn(\n"
     ]
    }
   ],
   "source": [
    "from torch.optim.lr_scheduler import ReduceLROnPlateau\n",
    "\n",
    "model = mldsgp4()\n",
    "criterion = nn.SmoothL1Loss()\n",
    "optimizer = optim.AdamW(model.parameters(), lr = 0.001, weight_decay = 0.05)\n",
    "scheduler = ReduceLROnPlateau(optimizer)\n",
    "criterion = nn.SmoothL1Loss() #we will use a SmoothL1 Criterion, which combines MSE and MAE in order to be robust to outliers and get smooth gradients\n",
    "scaler = GradScaler(device)"
   ]
  },
  {
   "cell_type": "code",
   "execution_count": 6,
   "metadata": {},
   "outputs": [
    {
     "name": "stdout",
     "output_type": "stream",
     "text": [
      "['integration_85210.txt.zst']\n"
     ]
    }
   ],
   "source": [
    "from lazy_dataset.dataset import LazyDataset\n",
    "\n",
    "TRAIN_PATH = os.getenv(\"TRAIN_PATH\")\n",
    "TEST_PATH = os.getenv(\"TEST_PATH\")\n",
    "VAL_PATH = os.getenv(\"VAL_PATH\")\n",
    "\n",
    "# LazyDataset is a custom dataset class that lazily loads data from the specified folder\n",
    "# It is designed to handle large datasets efficiently by loading only the necessary data when needed\n",
    "# It is assumed that the folder contains TLE files and corresponding state files in a specific format\n",
    "mp = False\n",
    "bs = 1\n",
    "train_satellites = LazyDataset(folder = TRAIN_PATH, multiprocess=mp, batch_size=bs)\n",
    "test_satellites = LazyDataset(folder = TEST_PATH, multiprocess=mp, batch_size=bs)\n",
    "val_satellites = LazyDataset(folder = VAL_PATH, multiprocess=mp, batch_size=bs)\n",
    "\n",
    "print(train_satellites[0])"
   ]
  },
  {
   "cell_type": "code",
   "execution_count": null,
   "metadata": {},
   "outputs": [
    {
     "name": "stdout",
     "output_type": "stream",
     "text": [
      "Epoch 1/100\n"
     ]
    },
    {
     "name": "stderr",
     "output_type": "stream",
     "text": [
      "/tmp/ipykernel_564875/946281627.py:34: FutureWarning: `torch.cuda.amp.autocast(args...)` is deprecated. Please use `torch.amp.autocast('cuda', args...)` instead.\n",
      "  with autocast(device):\n",
      "/home/ls/.local/share/virtualenvs/python-8qDdKdqJ/lib/python3.12/site-packages/torch/amp/autocast_mode.py:266: UserWarning: User provided device_type of 'cuda', but CUDA is not available. Disabling\n",
      "  warnings.warn(\n"
     ]
    }
   ],
   "source": [
    "EPOCHS = 100\n",
    "\n",
    "LRS = [0.01, 0.001, 0.0001, 0.00001]\n",
    "OPTIMIZERS = [\n",
    "]\n",
    "\n",
    "training_loss_over_time = []    \n",
    "testing_loss_over_time = []\n",
    "validation_loss_over_time = []\n",
    "\n",
    "for epoch in range(EPOCHS):\n",
    "    print(f\"Epoch {epoch+1}/{EPOCHS}\")\n",
    "    \n",
    "    # Training\n",
    "    model.train()\n",
    "    train_loss = train(model, train_satellites, optimizer, criterion)\n",
    "    training_loss_over_time.append(train_loss)\n",
    "\n",
    "    # Evaluation\n",
    "    # model.eval()\n",
    "    # test_loss = eval(model, test_satellites, optimizer)\n",
    "    # testing_loss_over_time.append(test_loss)\n",
    "\n",
    "    # # Validation\n",
    "    # val_loss = eval(model, val_satellites, optimizer)\n",
    "    # validation_loss_over_time.append(val_loss)"
   ]
  }
 ],
 "metadata": {
  "kernelspec": {
   "display_name": "Python 3",
   "language": "python",
   "name": "python3"
  },
  "language_info": {
   "codemirror_mode": {
    "name": "ipython",
    "version": 3
   },
   "file_extension": ".py",
   "mimetype": "text/x-python",
   "name": "python",
   "nbconvert_exporter": "python",
   "pygments_lexer": "ipython3",
   "version": "3.12.7"
  }
 },
 "nbformat": 4,
 "nbformat_minor": 2
}
