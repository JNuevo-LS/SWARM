{
 "cells": [
  {
   "cell_type": "code",
   "execution_count": null,
   "metadata": {},
   "outputs": [],
   "source": [
    "import torch\n",
    "import torch.nn as nn\n",
    "\n",
    "device = torch.device('cuda' if torch.cuda.is_available() else 'cpu')"
   ]
  },
  {
   "cell_type": "code",
   "execution_count": 32,
   "metadata": {},
   "outputs": [],
   "source": [
    "import zstandard as zstd\n",
    "import io\n",
    "\n",
    "def read_zst(filepath:str):\n",
    "    lines = []\n",
    "    with open(filepath, \"rb\") as file:\n",
    "        decompressor = zstd.ZstdDecompressor()\n",
    "        reader = decompressor.stream_reader(file)\n",
    "        text_stream = io.TextIOWrapper(reader, encoding=\"utf-8\")\n",
    "\n",
    "        for line in text_stream:\n",
    "            lines.append(line.rstrip(\"\\n\"))\n",
    "    return lines\n",
    "\n",
    "\n",
    "class State:\n",
    "    def __init__(self, line:str):\n",
    "        orbital_data = line.split(\",\")\n",
    "\n",
    "        self.time = float(orbital_data[0])\n",
    "        self.velocity_x = float(orbital_data[1])\n",
    "        self.velocity_y = float(orbital_data[2])\n",
    "        self.velocity_z = float(orbital_data[3])\n",
    "        self.acceleration_x = float(orbital_data[4])\n",
    "        self.acceleration_y = float(orbital_data[5])\n",
    "        self.acceleration_z = float(orbital_data[6])"
   ]
  },
  {
   "cell_type": "code",
   "execution_count": null,
   "metadata": {},
   "outputs": [
    {
     "name": "stdout",
     "output_type": "stream",
     "text": [
      "1704048971.167296\n",
      "Absolute V: 7123210545.594515 km/s\n",
      "1704048984.725998\n",
      "Absolute V: 7114715011.506259 km/s\n",
      "1704048998.2847\n",
      "Absolute V: 7107864459.841122 km/s\n",
      "1704049011.843402\n",
      "Absolute V: 7102663650.377745 km/s\n",
      "1704049025.402104\n",
      "Absolute V: 7099116208.916073 km/s\n",
      "1704049038.960806\n",
      "Absolute V: 7097224614.687978 km/s\n",
      "1704049052.519508\n",
      "Absolute V: 7096990191.713553 km/s\n",
      "1704049066.0782099\n",
      "Absolute V: 7098413104.173253 km/s\n",
      "1704049079.6369119\n",
      "Absolute V: 7101492355.833359 km/s\n",
      "1704049093.1956139\n",
      "Absolute V: 7106225793.529767 km/s\n"
     ]
    }
   ],
   "source": [
    "import math\n",
    "FILEPATH = \"/mnt/IronWolfPro8TB/SWARM/data/output/raw/integration_12_0.txt.zst\"\n",
    "\n",
    "lines = read_zst(FILEPATH)\n",
    "states = []\n",
    "for line in lines:\n",
    "    s = State(line)\n",
    "    states.append(s)\n",
    "\n",
    "\n",
    "for i in range(0, 10):\n",
    "    print(states[i].time)\n",
    "    absolute_v = math.sqrt(states[i].velocity_x**2 + states[i].velocity_y**2 + states[i].velocity_z**2)\n",
    "    print(f\"Absolute V: {absolute_v}\")"
   ]
  },
  {
   "cell_type": "code",
   "execution_count": null,
   "metadata": {},
   "outputs": [
    {
     "name": "stdout",
     "output_type": "stream",
     "text": [
      "2023-12-31 13:56:11.167296\n",
      "2023-12-31 13:56:24.725998\n",
      "2023-12-31 13:56:38.284700\n",
      "2023-12-31 13:56:51.843402\n",
      "2023-12-31 13:57:05.402104\n",
      "2023-12-31 13:57:18.960806\n",
      "2023-12-31 13:57:32.519508\n",
      "2023-12-31 13:57:46.078210\n",
      "2023-12-31 13:57:59.636912\n",
      "2023-12-31 13:58:13.195614\n"
     ]
    }
   ],
   "source": [
    "import satkit\n",
    "import datetime\n",
    "\n",
    "#TODO: Implement satkit satstates to begin training from integrated data\n",
    "\n",
    "satkit.utils.update_datafiles()\n",
    "\n",
    "for i in range(0,10):\n",
    "    unix_t = states[i].time\n",
    "    dt = datetime.datetime.fromtimestamp(unix_t)\n",
    "    print(dt)"
   ]
  },
  {
   "cell_type": "code",
   "execution_count": 35,
   "metadata": {},
   "outputs": [],
   "source": [
    "import customMLDSGP4\n",
    "\n",
    "model = customMLDSGP4.mldsgp4()\n",
    "\n"
   ]
  }
 ],
 "metadata": {
  "kernelspec": {
   "display_name": "SWARM",
   "language": "python",
   "name": "python3"
  },
  "language_info": {
   "codemirror_mode": {
    "name": "ipython",
    "version": 3
   },
   "file_extension": ".py",
   "mimetype": "text/x-python",
   "name": "python",
   "nbconvert_exporter": "python",
   "pygments_lexer": "ipython3",
   "version": "3.13.2"
  }
 },
 "nbformat": 4,
 "nbformat_minor": 2
}
