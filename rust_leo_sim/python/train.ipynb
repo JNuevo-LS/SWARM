{
 "cells": [
  {
   "cell_type": "code",
   "execution_count": null,
   "metadata": {},
   "outputs": [],
   "source": [
    "import math\n",
    "import numpy as np\n",
    "import zstandard as zstd\n",
    "import datetime\n",
    "import io\n",
    "import satkit\n",
    "from satkit import satstate, time\n",
    "\n",
    "satkit.utils.update_datafiles()\n",
    "\n",
    "def read_zst(filepath:str):\n",
    "    lines = []\n",
    "    with open(filepath, \"rb\") as file:\n",
    "        decompressor = zstd.ZstdDecompressor()\n",
    "        reader = decompressor.stream_reader(file)\n",
    "        text_stream = io.TextIOWrapper(reader, encoding=\"utf-8\")\n",
    "\n",
    "        for line in text_stream:\n",
    "            lines.append(line.rstrip(\"\\n\"))\n",
    "    return lines\n",
    "\n",
    "\n",
    "class State:\n",
    "    def __init__(self, line:str):\n",
    "        orbital_data = line.split(\",\")\n",
    "\n",
    "        dt_time = datetime.datetime.fromtimestamp(float(orbital_data[0].rstrip())) #to be optimized\n",
    "        self.time = time.from_datetime(dt_time)\n",
    "        self.pos_x = float(orbital_data[1])\n",
    "        self.pos_y = float(orbital_data[2])\n",
    "        self.pos_z = float(orbital_data[3])\n",
    "        self.vel_x = float(orbital_data[4])\n",
    "        self.vel_y = float(orbital_data[5])\n",
    "        self.vel_z = float(orbital_data[6])\n",
    "    \n",
    "    def get_position_vector(self):\n",
    "        \"\"\"\n",
    "        Returns the position vector as a numpy array\n",
    "        \"\"\"\n",
    "        return np.array([self.pos_x, self.pos_y, self.pos_z])\n",
    "    \n",
    "    def get_velocity_vector(self):\n",
    "        \"\"\"\n",
    "        Returns the velocity vector as a numpy array\n",
    "        \"\"\"\n",
    "        return np.array([self.vel_x, self.vel_y, self.vel_z])\n",
    "    \n",
    "    def get_velocity_magnitude(self):\n",
    "        \"\"\"\n",
    "        Returns magnitude of the velocity vector, in km/s\n",
    "        \"\"\"\n",
    "        return math.sqrt(self.vel_x**2 + self.vel_y**2 + self.vel_z**2)/1000\n",
    "\n",
    "    def create_SatState(self):\n",
    "        \"\"\"\n",
    "        Returns a SatState object from satkit with the current object's data\n",
    "        \"\"\"\n",
    "        return satstate(self.time, self.get_position_vector(), self.get_velocity_vector())"
   ]
  },
  {
   "cell_type": "code",
   "execution_count": 17,
   "metadata": {},
   "outputs": [],
   "source": [
    "import dsgp4\n",
    "\n",
    "def read_blocks(file_lines):\n",
    "    num_tles = int(len(file_lines)/5003) # 2 lines for TLE, 5001 lines for satstates\n",
    "    i = 0\n",
    "    tle_arr = []\n",
    "    state_arr = []\n",
    "    for j in range(num_tles):\n",
    "        upper_end = i + 5003\n",
    "        tle = dsgp4.tle.TLE([file_lines[i].rstrip(), file_lines[i+1].rstrip()])\n",
    "        tle_arr.append(tle)\n",
    "        i+=2\n",
    "        while i < upper_end:\n",
    "            state_arr.append(State(file_lines[i]))\n",
    "            i+=1\n",
    "    return (tle_arr, state_arr)\n"
   ]
  },
  {
   "cell_type": "code",
   "execution_count": 18,
   "metadata": {},
   "outputs": [
    {
     "name": "stdout",
     "output_type": "stream",
     "text": [
      "679\n",
      "3395679\n"
     ]
    }
   ],
   "source": [
    "FILEPATH = \"/mnt/IronWolfPro8TB/SWARM/data/output/raw/integration_12.txt.zst\"\n",
    "\n",
    "lines = read_zst(FILEPATH)\n",
    "states = []\n",
    "\n",
    "num_lines = len(lines)\n",
    "(tle_arr, state_arr) = read_blocks(lines)\n",
    "print(len(tle_arr))\n",
    "print(len(state_arr))"
   ]
  },
  {
   "cell_type": "code",
   "execution_count": 19,
   "metadata": {},
   "outputs": [],
   "source": [
    "import torch\n",
    "import torch.nn as nn\n",
    "import numpy as np\n",
    "import customMLDSGP4\n",
    "\n",
    "device = torch.device('cuda' if torch.cuda.is_available() else 'cpu')"
   ]
  },
  {
   "cell_type": "code",
   "execution_count": 20,
   "metadata": {},
   "outputs": [
    {
     "name": "stdout",
     "output_type": "stream",
     "text": [
      "init_tle:\n",
      "TLE(\n",
      "1 00012U 59001B   23365.78901621 +.00000312 +00000-0  18880-3 0 00019\n",
      "2 00012  32.8959 145.6874 1658950  35.9316 334.2191 11.45913264428101\n",
      ")\n"
     ]
    },
    {
     "data": {
      "text/plain": [
       "tensor([1.8880e-04, 9.4539e-12, 0.0000e+00, 1.6589e-01, 6.2712e-01, 5.7414e-01,\n",
       "        5.8332e+00, 5.0000e-02, 2.5427e+00])"
      ]
     },
     "execution_count": 20,
     "metadata": {},
     "output_type": "execute_result"
    }
   ],
   "source": [
    "init_tle = tle_arr[0]\n",
    "print(\"init_tle:\")\n",
    "print(init_tle)\n",
    "\n",
    "model = customMLDSGP4.mldsgp4()\n",
    "\n",
    "customMLDSGP4.initialize_tle(init_tle)"
   ]
  },
  {
   "cell_type": "code",
   "execution_count": null,
   "metadata": {},
   "outputs": [],
   "source": [
    "def train_mldsgp4(model, tles, states, epochs=100, batch_size=32):\n",
    "    return"
   ]
  }
 ],
 "metadata": {
  "kernelspec": {
   "display_name": "SWARM",
   "language": "python",
   "name": "python3"
  },
  "language_info": {
   "codemirror_mode": {
    "name": "ipython",
    "version": 3
   },
   "file_extension": ".py",
   "mimetype": "text/x-python",
   "name": "python",
   "nbconvert_exporter": "python",
   "pygments_lexer": "ipython3",
   "version": "3.13.2"
  }
 },
 "nbformat": 4,
 "nbformat_minor": 2
}
