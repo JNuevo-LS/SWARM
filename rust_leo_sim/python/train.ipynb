{
 "cells": [
  {
   "cell_type": "code",
   "execution_count": 16,
   "metadata": {},
   "outputs": [],
   "source": [
    "import torch\n",
    "import torch.nn as nn\n",
    "import numpy as np\n",
    "\n",
    "device = torch.device('cuda' if torch.cuda.is_available() else 'cpu')"
   ]
  },
  {
   "cell_type": "code",
   "execution_count": null,
   "metadata": {},
   "outputs": [],
   "source": [
    "import math\n",
    "import zstandard as zstd\n",
    "import datetime\n",
    "import io\n",
    "import satkit\n",
    "from satkit import satstate, time\n",
    "\n",
    "def read_zst(filepath:str):\n",
    "    lines = []\n",
    "    with open(filepath, \"rb\") as file:\n",
    "        decompressor = zstd.ZstdDecompressor()\n",
    "        reader = decompressor.stream_reader(file)\n",
    "        text_stream = io.TextIOWrapper(reader, encoding=\"utf-8\")\n",
    "\n",
    "        for line in text_stream:\n",
    "            lines.append(line.rstrip(\"\\n\"))\n",
    "    return lines\n",
    "\n",
    "\n",
    "class State:\n",
    "    def __init__(self, line:str):\n",
    "        orbital_data = line.split(\",\")\n",
    "\n",
    "        dt_time = datetime.datetime.fromtimestamp(float(orbital_data[0].rstrip())) #to be optimized\n",
    "        self.time = time.from_datetime(dt_time)\n",
    "        self.pos_x = float(orbital_data[1])\n",
    "        self.pos_y = float(orbital_data[2])\n",
    "        self.pos_z = float(orbital_data[3])\n",
    "        self.vel_x = float(orbital_data[4])\n",
    "        self.vel_y = float(orbital_data[5])\n",
    "        self.vel_z = float(orbital_data[6])\n",
    "    \n",
    "    def get_position_vector(self):\n",
    "        \"\"\"\n",
    "        Returns the position vector as a numpy array\n",
    "        \"\"\"\n",
    "        return np.array([self.pos_x, self.pos_y, self.pos_z])\n",
    "    \n",
    "    def get_velocity_vector(self):\n",
    "        \"\"\"\n",
    "        Returns the velocity vector as a numpy array\n",
    "        \"\"\"\n",
    "        return np.array([self.vel_x, self.pos_y, self.pos_z])\n",
    "    \n",
    "    def get_velocity_magnitude(self):\n",
    "        \"\"\"\n",
    "        Returns magnitude of the velocity vector, in km/s\n",
    "        \"\"\"\n",
    "        return math.sqrt(self.vel_x**2 + self.vel_y**2 + self.vel_z**2)/1000\n",
    "\n",
    "    def create_SatState(self):\n",
    "        \"\"\"\n",
    "        Returns a SatState object from satkit with the current object's data\n",
    "        \"\"\"\n",
    "        return satstate(self.time, self.get_position_vector(), self.get_velocity_vector())"
   ]
  },
  {
   "cell_type": "code",
   "execution_count": 18,
   "metadata": {},
   "outputs": [
    {
     "name": "stdout",
     "output_type": "stream",
     "text": [
      "2023-12-31T18:56:11.167296Z\n",
      "Magnitude of Velocity Vector: 7999.141716103813\n",
      "2023-12-31T18:56:24.725998Z\n",
      "Magnitude of Velocity Vector: 7999.141713407197\n",
      "2023-12-31T18:56:38.284700Z\n",
      "Magnitude of Velocity Vector: 7999.141710677208\n",
      "2023-12-31T18:56:51.843402Z\n",
      "Magnitude of Velocity Vector: 7999.14170791373\n",
      "2023-12-31T18:57:05.402104Z\n",
      "Magnitude of Velocity Vector: 7999.14170511665\n",
      "2023-12-31T18:57:18.960806Z\n",
      "Magnitude of Velocity Vector: 7999.141702285854\n",
      "2023-12-31T18:57:32.519508Z\n",
      "Magnitude of Velocity Vector: 7999.141699421238\n",
      "2023-12-31T18:57:46.078210Z\n",
      "Magnitude of Velocity Vector: 7999.141696522691\n",
      "2023-12-31T18:57:59.636912Z\n",
      "Magnitude of Velocity Vector: 7999.141693590119\n",
      "2023-12-31T18:58:13.195614Z\n",
      "Magnitude of Velocity Vector: 7999.141690623424\n"
     ]
    }
   ],
   "source": [
    "FILEPATH = \"/mnt/IronWolfPro8TB/SWARM/data/output/raw/integration_12_0.txt.zst\"\n",
    "\n",
    "lines = read_zst(FILEPATH)\n",
    "states = []\n",
    "for line in lines:\n",
    "    s = State(line)\n",
    "    states.append(s)\n",
    "\n",
    "\n",
    "for i in range(0, 10):\n",
    "    print(states[i].time)\n",
    "    v_magnitude = states[i].get_velocity_magnitude()\n",
    "    print(f\"Magnitude of Velocity Vector: {v_magnitude}\")"
   ]
  },
  {
   "cell_type": "code",
   "execution_count": null,
   "metadata": {},
   "outputs": [
    {
     "name": "stdout",
     "output_type": "stream",
     "text": [
      "Satellite State\n",
      "                       Time: 2023-12-31T18:56:11.167296Z\n",
      "              GCRF Position: [-5861948418, +4046913298, +13490068] m,\n",
      "              GCRF Velocity: [-3225699.232, +4046913297.882, +13490068.083] m/s\n",
      "Satellite State\n",
      "                       Time: 2023-12-31T18:56:24.725998Z\n",
      "              GCRF Position: [-5905684713, +3966967368, +72302635] m,\n",
      "              GCRF Velocity: [-3225699.230, +3966967368.163, +72302634.875] m/s\n",
      "Satellite State\n",
      "                       Time: 2023-12-31T18:56:38.284700Z\n",
      "              GCRF Position: [-5949421007, +3887021439, +131115202] m,\n",
      "              GCRF Velocity: [-3225699.228, +3887021438.505, +131115201.706] m/s\n",
      "Satellite State\n",
      "                       Time: 2023-12-31T18:56:51.843402Z\n",
      "              GCRF Position: [-5993157302, +3807075509, +189927769] m,\n",
      "              GCRF Velocity: [-3225699.225, +3807075508.907, +189927768.574] m/s\n",
      "Satellite State\n",
      "                       Time: 2023-12-31T18:57:05.402104Z\n",
      "              GCRF Position: [-6036893596, +3727129579, +248740335] m,\n",
      "              GCRF Velocity: [-3225699.223, +3727129579.371, +248740335.478] m/s\n",
      "Satellite State\n",
      "                       Time: 2023-12-31T18:57:18.960806Z\n",
      "              GCRF Position: [-6080629891, +3647183650, +307552902] m,\n",
      "              GCRF Velocity: [-3225699.221, +3647183649.895, +307552902.418] m/s\n",
      "Satellite State\n",
      "                       Time: 2023-12-31T18:57:32.519508Z\n",
      "              GCRF Position: [-6124366185, +3567237720, +366365469] m,\n",
      "              GCRF Velocity: [-3225699.218, +3567237720.480, +366365469.393] m/s\n",
      "Satellite State\n",
      "                       Time: 2023-12-31T18:57:46.078210Z\n",
      "              GCRF Position: [-6168102480, +3487291791, +425178036] m,\n",
      "              GCRF Velocity: [-3225699.216, +3487291791.124, +425178036.402] m/s\n",
      "Satellite State\n",
      "                       Time: 2023-12-31T18:57:59.636912Z\n",
      "              GCRF Position: [-6211838774, +3407345862, +483990603] m,\n",
      "              GCRF Velocity: [-3225699.213, +3407345861.828, +483990603.445] m/s\n",
      "Satellite State\n",
      "                       Time: 2023-12-31T18:58:13.195614Z\n",
      "              GCRF Position: [-6255575068, +3327399933, +542803171] m,\n",
      "              GCRF Velocity: [-3225699.211, +3327399932.591, +542803170.520] m/s\n"
     ]
    }
   ],
   "source": [
    "#satkit.utils.update_datafiles()\n",
    "\n",
    "for i in range(0,10):\n",
    "    state = states[i].create_SatState()\n",
    "    print(state)"
   ]
  },
  {
   "cell_type": "code",
   "execution_count": 20,
   "metadata": {},
   "outputs": [],
   "source": [
    "import customMLDSGP4\n",
    "\n",
    "model = customMLDSGP4.mldsgp4()\n",
    "\n"
   ]
  }
 ],
 "metadata": {
  "kernelspec": {
   "display_name": "SWARM",
   "language": "python",
   "name": "python3"
  },
  "language_info": {
   "codemirror_mode": {
    "name": "ipython",
    "version": 3
   },
   "file_extension": ".py",
   "mimetype": "text/x-python",
   "name": "python",
   "nbconvert_exporter": "python",
   "pygments_lexer": "ipython3",
   "version": "3.13.2"
  }
 },
 "nbformat": 4,
 "nbformat_minor": 2
}
