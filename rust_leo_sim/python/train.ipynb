{
 "cells": [
  {
   "cell_type": "code",
   "execution_count": 1,
   "metadata": {},
   "outputs": [],
   "source": [
    "import satkit\n",
    "\n",
    "# satkit.utils.update_datafiles()"
   ]
  },
  {
   "cell_type": "code",
   "execution_count": 2,
   "metadata": {},
   "outputs": [
    {
     "data": {
      "text/plain": [
       "True"
      ]
     },
     "execution_count": 2,
     "metadata": {},
     "output_type": "execute_result"
    }
   ],
   "source": [
    "from dotenv import load_dotenv\n",
    "import os\n",
    "import logging\n",
    "\n",
    "logging.basicConfig(level=logging.INFO, filename='training.log', filemode='a', format='%(asctime)s %(levelname)s:%(message)s')\n",
    "logging.info(\"Starting training script\")\n",
    "\n",
    "load_dotenv()"
   ]
  },
  {
   "cell_type": "code",
   "execution_count": 3,
   "metadata": {},
   "outputs": [],
   "source": [
    "import torch\n",
    "import torch.nn as nn\n",
    "import numpy as np\n",
    "\n",
    "if torch.cuda.is_available():\n",
    "    torch.set_default_device('cuda')\n",
    "    device_str = 'cuda'\n",
    "else:\n",
    "    device_str = 'cpu'\n",
    "\n",
    "device = torch.device(device_str)"
   ]
  },
  {
   "cell_type": "code",
   "execution_count": 4,
   "metadata": {},
   "outputs": [
    {
     "name": "stderr",
     "output_type": "stream",
     "text": [
      "/tmp/ipykernel_1430079/2762004858.py:51: FutureWarning: `torch.cuda.amp.GradScaler(args...)` is deprecated. Please use `torch.amp.GradScaler('cuda', args...)` instead.\n",
      "  scaler: GradScaler = GradScaler(),\n"
     ]
    }
   ],
   "source": [
    "from torch.cuda.amp import autocast, GradScaler\n",
    "from torch import optim\n",
    "from dsgp4 import mldsgp4\n",
    "from lazy_dataset.dataset import LazyDataset, TrainingStep, State\n",
    "from dsgp4.tle import TLE\n",
    "from util.transform import teme_to_gcrf, gcrf_to_teme\n",
    "import satkit as sk\n",
    "\n",
    "def extract_batch_data(batch: list[TrainingStep]) -> tuple[list[TLE], list[State], torch.Tensor]:\n",
    "    \"\"\"\n",
    "    Extracts TLEs and states from a batch of data.\n",
    "    \"\"\"\n",
    "    tles = [step.tle for step in batch]\n",
    "    all_state_lists = [step.states for step in batch]\n",
    "    all_tsince_lists = [step.tsinces for step in batch]\n",
    "    states = [state for state_list in all_state_lists for state in state_list]\n",
    "    tsinces = [tsince for tsince_list in all_tsince_lists for tsince in tsince_list]\n",
    "\n",
    "    flattened_tles = []\n",
    "    batched_steps = []\n",
    "    for tle, tsince_list in zip(tles, all_tsince_lists):\n",
    "        flattened_tles.extend([tle] * len(tsince_list))\n",
    "        if len(tsince_list) > 0:\n",
    "            batched_steps.extend(torch.linspace(0, tsince_list[-1], len(tsince_list), device=device).tolist())\n",
    "\n",
    "    batched_steps = torch.tensor(batched_steps, device=device)\n",
    "\n",
    "    return flattened_tles, states, batched_steps\n",
    "\n",
    "def normalize_ground_truth(states, normalization_R=6958.137, normalization_V=7.947155867983262):\n",
    "    \"\"\"\n",
    "    Normalize ground truth states to match model's output space.\n",
    "    \n",
    "    Args:\n",
    "        states: Tensor [N, 6] with positions (km) and velocities (km/s)\n",
    "        \n",
    "    Returns:\n",
    "        normalized_states: Tensor [N, 6] in normalized units\n",
    "    \"\"\"\n",
    "    normalized = torch.zeros_like(states)\n",
    "    normalized[:, :3] = states[:, :3] / normalization_R  # Normalize positions\n",
    "    normalized[:, 3:] = states[:, 3:] / normalization_V   # Normalize velocities\n",
    "    \n",
    "    return normalized\n",
    "\n",
    "def train(\n",
    "        model: mldsgp4,\n",
    "        dataset: LazyDataset,\n",
    "        optimizer: optim.Optimizer,\n",
    "        criterion: nn.Module = nn.SmoothL1Loss(),\n",
    "        scaler: GradScaler = GradScaler(),\n",
    "        chunk_size=512,\n",
    "        ):\n",
    "    model.train()\n",
    "    total_loss = 0.0\n",
    "\n",
    "    for i, batch in enumerate(dataset):\n",
    "        logging.info(f\"Processing batch {i+1}/{len(dataset)} with {len(batch)} steps\")\n",
    "        tles, states, steps = extract_batch_data(batch)\n",
    "\n",
    "        optimizer.zero_grad()\n",
    "\n",
    "        # Convert ground truth states to a tensor\n",
    "        state_tensors = []\n",
    "        for state in states:\n",
    "            state_tensor_teme = gcrf_to_teme(torch.tensor(\n",
    "                np.concatenate([state.get_position_vector(), state.get_velocity_vector()]),\n",
    "                dtype=torch.float32,\n",
    "                device=device\n",
    "            ).unsqueeze(0), sk.time.from_datetime(state.dt_time))\n",
    "        target_states = torch.stack(state_tensors).to(device)\n",
    "\n",
    "        # Process in smaller chunks to save GPU memory\n",
    "        propagated_states = []\n",
    "        accumulated_loss = 0.0\n",
    "        logging.info(f\"Propagating {len(tles)} TLEs with {len(steps)} steps in chunks of size {chunk_size}\")\n",
    "        for i in range(0, len(steps), chunk_size):\n",
    "            chunk_steps = steps[i:i+chunk_size]\n",
    "            with autocast():\n",
    "                chunk_states = model(tles[i:i+chunk_size], chunk_steps).to(device)\n",
    "                propagated_states.append(chunk_states)\n",
    "\n",
    "                # Compute the loss for the chunk\n",
    "                loss = criterion(chunk_states, target_states[i:i+chunk_size].to(device))\n",
    "                # Backpropagate the loss for this chunk\n",
    "                scaler.scale(loss).backward()\n",
    "            accumulated_loss += loss.item()\n",
    "\n",
    "            # Free up memory\n",
    "            torch.cuda.empty_cache()\n",
    "            del chunk_states, loss\n",
    "\n",
    "        logging.info(f\"Accumulated loss for batch {i+1}: {accumulated_loss} | Average loss so far: {accumulated_loss / (i+1)}\")\n",
    "        # Convert propagated states to a tensor\n",
    "        propagated_states = torch.cat(propagated_states, dim=0).to(device)\n",
    "        print(f\"Propagated states shape: {propagated_states.shape}\")\n",
    "\n",
    "        # Backpropagation and optimization\n",
    "        scaler.step(optimizer)\n",
    "        scaler.update()\n",
    "\n",
    "        total_loss += accumulated_loss\n",
    "    \n",
    "    avg_loss = total_loss / len(dataset)\n",
    "    return avg_loss"
   ]
  },
  {
   "cell_type": "code",
   "execution_count": 5,
   "metadata": {},
   "outputs": [
    {
     "name": "stderr",
     "output_type": "stream",
     "text": [
      "/tmp/ipykernel_1430079/3589708949.py:8: FutureWarning: `torch.cuda.amp.GradScaler(args...)` is deprecated. Please use `torch.amp.GradScaler('cuda', args...)` instead.\n",
      "  scaler = GradScaler()\n"
     ]
    }
   ],
   "source": [
    "from torch.optim.lr_scheduler import ReduceLROnPlateau\n",
    "\n",
    "model = mldsgp4().to(device)\n",
    "criterion = nn.SmoothL1Loss()\n",
    "optimizer = optim.AdamW(model.parameters(), lr = 0.001, weight_decay = 0.05)\n",
    "scheduler = ReduceLROnPlateau(optimizer)\n",
    "criterion = nn.SmoothL1Loss() #we will use a SmoothL1 Criterion, which combines MSE and MAE in order to be robust to outliers and get smooth gradients\n",
    "scaler = GradScaler()"
   ]
  },
  {
   "cell_type": "code",
   "execution_count": 6,
   "metadata": {},
   "outputs": [
    {
     "name": "stdout",
     "output_type": "stream",
     "text": [
      "['integration_30122.txt.zst', 'integration_30124.txt.zst', 'integration_30127.txt.zst', 'integration_30131.txt.zst']\n"
     ]
    }
   ],
   "source": [
    "from lazy_dataset.dataset import LazyDataset\n",
    "\n",
    "TRAIN_PATH = os.getenv(\"TRAIN_PATH\")\n",
    "TEST_PATH = os.getenv(\"TEST_PATH\")\n",
    "VAL_PATH = os.getenv(\"VAL_PATH\")\n",
    "\n",
    "if TRAIN_PATH is None or TEST_PATH is None or VAL_PATH is None:\n",
    "    raise ValueError(\"One or more dataset paths are not set in the environment variables.\")\n",
    "\n",
    "# LazyDataset is a custom dataset class that lazily loads data from the specified folder\n",
    "# It is designed to handle large datasets efficiently by loading only the necessary data when needed\n",
    "# It is assumed that the folder contains TLE files and corresponding state files in a specific format\n",
    "mp = True  # Enable multiprocessing for LazyDataset\n",
    "bs = 4\n",
    "ns = 512\n",
    "train_satellites = LazyDataset(folder = TRAIN_PATH, multiprocess=mp, batch_size=bs, num_states_per_tle=ns)\n",
    "test_satellites = LazyDataset(folder = TEST_PATH, multiprocess=mp, batch_size=bs, num_states_per_tle=ns)\n",
    "val_satellites = LazyDataset(folder = VAL_PATH, multiprocess=mp, batch_size=bs, num_states_per_tle=ns)\n",
    "\n",
    "print(train_satellites[0])"
   ]
  },
  {
   "cell_type": "code",
   "execution_count": null,
   "metadata": {},
   "outputs": [],
   "source": [
    "EPOCHS = 100\n",
    "\n",
    "LRS = [0.01, 0.001, 0.0001, 0.00001]\n",
    "OPTIMIZERS = [\n",
    "]\n",
    "\n",
    "training_loss_over_time = []    \n",
    "testing_loss_over_time = []\n",
    "validation_loss_over_time = []\n",
    "\n",
    "for epoch in range(EPOCHS):\n",
    "    logging.info(f\"Epoch {epoch+1}/{EPOCHS}\")\n",
    "    \n",
    "    # Training\n",
    "    model.train()\n",
    "    train_loss = train(model, train_satellites, optimizer, criterion, chunk_size=1024)\n",
    "    logging.info(f\"Training loss: {train_loss}\")\n",
    "    training_loss_over_time.append(train_loss)\n",
    "\n",
    "    # Evaluation\n",
    "    # model.eval()\n",
    "    # test_loss = eval(model, test_satellites, optimizer)\n",
    "    # testing_loss_over_time.append(test_loss)\n",
    "\n",
    "    # # Validation\n",
    "    # val_loss = eval(model, val_satellites, optimizer)\n",
    "    # validation_loss_over_time.append(val_loss)"
   ]
  }
 ],
 "metadata": {
  "kernelspec": {
   "display_name": "python-PPyOwDGl",
   "language": "python",
   "name": "python3"
  },
  "language_info": {
   "codemirror_mode": {
    "name": "ipython",
    "version": 3
   },
   "file_extension": ".py",
   "mimetype": "text/x-python",
   "name": "python",
   "nbconvert_exporter": "python",
   "pygments_lexer": "ipython3",
   "version": "3.12.3"
  }
 },
 "nbformat": 4,
 "nbformat_minor": 2
}
