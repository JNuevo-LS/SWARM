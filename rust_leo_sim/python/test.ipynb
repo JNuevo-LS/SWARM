{
 "cells": [
  {
   "cell_type": "code",
   "execution_count": 1,
   "metadata": {},
   "outputs": [
    {
     "name": "stdout",
     "output_type": "stream",
     "text": [
      "Current Device: cuda\n"
     ]
    }
   ],
   "source": [
    "from itertools import starmap\n",
    "from custom_satkit.customMLDSGP4 import mldsgp4\n",
    "from multiprocessing import Pool, set_start_method\n",
    "import torch\n",
    "from custom_satkit.CustomTLE import CustomTLE\n",
    "import numpy\n",
    "from functools import partial\n",
    "import time\n",
    "\n",
    "device = torch.device(\"cuda\")\n",
    "print(f\"Current Device: {device}\")\n",
    "\n",
    "ml_dsgp4 = mldsgp4(hidden_size=35)"
   ]
  },
  {
   "cell_type": "code",
   "execution_count": 2,
   "metadata": {},
   "outputs": [],
   "source": [
    "def propagate_between_gaps(tle_records, density_per_segment):\n",
    "    \"\"\"\n",
    "    tle_list: A sorted list of TLE dictionaries\n",
    "    density: Number of timesteps to simulate in between each gap\n",
    "    \"\"\"\n",
    "    ml_dsgp4 = mldsgp4(hidden_size=35)\n",
    "    start = time.time()\n",
    "    (tle, gap) = process_records(tle_records) #tuple of record and time to be as arguments\n",
    "    print(f\"Processed in {time.time() - start} seconds\")\n",
    "    all_states = []\n",
    "    id, year = tle[0].international_designator, tle[0].epoch_year\n",
    "\n",
    "    tle_n = len(tle)\n",
    "    for i in range(tle_n-1):\n",
    "        tle_i = tle[i]\n",
    "        gap_i = gap[i]\n",
    "        all_states.append(propagate(tle_i, gap_i, density_per_segment, ml_dsgp4))\n",
    "    all_states.append(propagate(tle[tle_n-1], 60*24, density_per_segment, ml_dsgp4))\n",
    "    filepath = f\"{id.strip()}_{year}.png\"\n",
    "    print(\"plotting to PNGs\")\n",
    "    plot_segments(all_states, filepath, ml_dsgp4)\n",
    "\n",
    "    return all_states\n",
    "\n",
    "def propagate_between_gaps_mp(tle_records, density_per_segment):\n",
    "    ml_dsgp4 = mldsgp4(hidden_size=35)\n",
    "    \n",
    "    start = time.time()\n",
    "    tle_gaps = process_records(tle_records)\n",
    "    print(f\"Processed in {time.time() - start} seconds\")\n",
    "\n",
    "\n",
    "    propagate_partial = partial(propagate, density=density_per_segment)\n",
    "    \n",
    "    with Pool(5) as pool:\n",
    "        all_states = pool.starmap(propagate_partial, tle_gaps, chunksize=10)\n",
    "    return all_states\n",
    "    \n",
    "\n",
    "def propagate(record:CustomTLE, time:int, density:int, model:mldsgp4):\n",
    "    \"\"\"\n",
    "    Record: Expects a CustomTLE object \\n\n",
    "    Time: Seconds to propagate as an integer \\n\n",
    "    Density: Number of timesteps in between \\n\n",
    "    \"\"\"\n",
    "    time_steps = torch.linspace(0, time, density)\n",
    "    tle_expanded = [record] * density\n",
    "\n",
    "    with torch.no_grad():\n",
    "        segment_states = model(tle_expanded, time_steps)\n",
    "    segment_states = segment_states.detach().clone().numpy()\n",
    "    \n",
    "    return segment_states\n",
    "\n",
    "def process_records(records: list): \n",
    "    tle_list = []\n",
    "    gaps = []\n",
    "\n",
    "    if not records:\n",
    "        return (tle_list, gaps)\n",
    "\n",
    "    first_tle = CustomTLE(records[0])\n",
    "    tle_list.append(first_tle)\n",
    "    t1 = first_tle[\"_epoch\"]  #datetime obj\n",
    "\n",
    "    for rec in records[1:]:\n",
    "        tle = CustomTLE(rec)\n",
    "        tle_list.append(tle)\n",
    "        t2 = tle[\"_epoch\"]\n",
    "        t_diff = (t2 - t1).total_seconds() / 60\n",
    "        gaps.append(t_diff)\n",
    "        t1 = t2\n",
    "    \n",
    "    return (tle_list, gaps)\n",
    "\n",
    "def plot_segments(all_states, base_filename, model: mldsgp4):\n",
    "    \"\"\"\n",
    "    all_states: list of numpy arrays, each representing one propagated path\n",
    "    base_filename: base name to use for the saved plots\n",
    "    model: mldsgp4 model (needed for unnormalizing)\n",
    "    \"\"\"\n",
    "    import matplotlib.pyplot as plt\n",
    "    import numpy as np\n",
    "    import os\n",
    "\n",
    "    out_dir = \"../data/plots\"\n",
    "    os.makedirs(out_dir, exist_ok=True)\n",
    "\n",
    "    for i, segment in enumerate(all_states):\n",
    "        #unnormalize the segment\n",
    "        position = segment[:,:3]*model.normalization_R\n",
    "\n",
    "        fig = plt.figure()\n",
    "        ax = fig.add_subplot(111, projection='3d')\n",
    "\n",
    "        ax.scatter(position[:, 0], position[:, 1], position[:, 2])\n",
    "\n",
    "        segment_filename = f\"{base_filename}_segment_{i}.png\"\n",
    "        full_path = os.path.join(out_dir, segment_filename)\n",
    "\n",
    "        plt.savefig(full_path)\n",
    "        plt.close(fig)\n",
    "\n",
    "    print(f\"Saved {len(all_states)} plots to '{out_dir}'\")\n",
    "\n",
    "def plot(states, filepath:str, model: mldsgp4):\n",
    "    from matplotlib import pyplot as plt\n",
    "\n",
    "    #unnormalize:\n",
    "    position=states[:,:3]*model.normalization_R\n",
    "    velocity=states[:,3:]*model.normalization_V\n",
    "\n",
    "    fig = plt.figure()\n",
    "    ax = fig.add_subplot(111, projection='3d')\n",
    "    ax.scatter(position[:,0], position[:,1], position[:,2])\n",
    "    ax.axis('equal')\n",
    "    plt.savefig(f\"../data/plots/{filepath}\")"
   ]
  },
  {
   "cell_type": "code",
   "execution_count": 3,
   "metadata": {},
   "outputs": [
    {
     "ename": "FileNotFoundError",
     "evalue": "[Errno 2] No such file or directory: '../data/tle2006.txt'",
     "output_type": "error",
     "traceback": [
      "\u001b[31m---------------------------------------------------------------------------\u001b[39m",
      "\u001b[31mFileNotFoundError\u001b[39m                         Traceback (most recent call last)",
      "\u001b[36mCell\u001b[39m\u001b[36m \u001b[39m\u001b[32mIn[3]\u001b[39m\u001b[32m, line 1\u001b[39m\n\u001b[32m----> \u001b[39m\u001b[32m1\u001b[39m \u001b[38;5;28;01mwith\u001b[39;00m \u001b[38;5;28;43mopen\u001b[39;49m\u001b[43m(\u001b[49m\u001b[33;43m\"\u001b[39;49m\u001b[33;43m../data/tle2006.txt\u001b[39;49m\u001b[33;43m\"\u001b[39;49m\u001b[43m)\u001b[49m \u001b[38;5;28;01mas\u001b[39;00m file:\n\u001b[32m      2\u001b[39m     lines = file.readlines()\n\u001b[32m      3\u001b[39m     i = \u001b[32m0\u001b[39m\n",
      "\u001b[36mFile \u001b[39m\u001b[32m~/.local/share/virtualenvs/python-8qDdKdqJ/lib/python3.12/site-packages/IPython/core/interactiveshell.py:343\u001b[39m, in \u001b[36m_modified_open\u001b[39m\u001b[34m(file, *args, **kwargs)\u001b[39m\n\u001b[32m    336\u001b[39m \u001b[38;5;28;01mif\u001b[39;00m file \u001b[38;5;129;01min\u001b[39;00m {\u001b[32m0\u001b[39m, \u001b[32m1\u001b[39m, \u001b[32m2\u001b[39m}:\n\u001b[32m    337\u001b[39m     \u001b[38;5;28;01mraise\u001b[39;00m \u001b[38;5;167;01mValueError\u001b[39;00m(\n\u001b[32m    338\u001b[39m         \u001b[33mf\u001b[39m\u001b[33m\"\u001b[39m\u001b[33mIPython won\u001b[39m\u001b[33m'\u001b[39m\u001b[33mt let you open fd=\u001b[39m\u001b[38;5;132;01m{\u001b[39;00mfile\u001b[38;5;132;01m}\u001b[39;00m\u001b[33m by default \u001b[39m\u001b[33m\"\u001b[39m\n\u001b[32m    339\u001b[39m         \u001b[33m\"\u001b[39m\u001b[33mas it is likely to crash IPython. If you know what you are doing, \u001b[39m\u001b[33m\"\u001b[39m\n\u001b[32m    340\u001b[39m         \u001b[33m\"\u001b[39m\u001b[33myou can use builtins\u001b[39m\u001b[33m'\u001b[39m\u001b[33m open.\u001b[39m\u001b[33m\"\u001b[39m\n\u001b[32m    341\u001b[39m     )\n\u001b[32m--> \u001b[39m\u001b[32m343\u001b[39m \u001b[38;5;28;01mreturn\u001b[39;00m \u001b[43mio_open\u001b[49m\u001b[43m(\u001b[49m\u001b[43mfile\u001b[49m\u001b[43m,\u001b[49m\u001b[43m \u001b[49m\u001b[43m*\u001b[49m\u001b[43margs\u001b[49m\u001b[43m,\u001b[49m\u001b[43m \u001b[49m\u001b[43m*\u001b[49m\u001b[43m*\u001b[49m\u001b[43mkwargs\u001b[49m\u001b[43m)\u001b[49m\n",
      "\u001b[31mFileNotFoundError\u001b[39m: [Errno 2] No such file or directory: '../data/tle2006.txt'"
     ]
    }
   ],
   "source": [
    "with open(\"../data/tle2006.txt\") as file:\n",
    "    lines = file.readlines()\n",
    "    i = 0\n",
    "    records = []\n",
    "    while i < len(lines):\n",
    "        eccentricity = float(f\"0.{lines[i][26:33]}\")\n",
    "        mean_motion = float(f\"{lines[i+1][52:63]}\")\n",
    "        # print(eccentricity)\n",
    "        # print(mean_motion)\n",
    "        if eccentricity < 0.25 and mean_motion > 11.25:\n",
    "            records.append([lines[i], lines[i+1]])\n",
    "        i+=2\n",
    "\n",
    "print(len(records))"
   ]
  },
  {
   "cell_type": "code",
   "execution_count": null,
   "metadata": {},
   "outputs": [
    {
     "name": "stdout",
     "output_type": "stream",
     "text": [
      "Processed in 68.66585350036621 seconds\n"
     ]
    }
   ],
   "source": [
    "states = propagate_between_gaps_mp(records, 10000)"
   ]
  }
 ],
 "metadata": {
  "kernelspec": {
   "display_name": "python-8qDdKdqJ",
   "language": "python",
   "name": "python3"
  },
  "language_info": {
   "codemirror_mode": {
    "name": "ipython",
    "version": 3
   },
   "file_extension": ".py",
   "mimetype": "text/x-python",
   "name": "python",
   "nbconvert_exporter": "python",
   "pygments_lexer": "ipython3",
   "version": "3.12.7"
  }
 },
 "nbformat": 4,
 "nbformat_minor": 2
}
